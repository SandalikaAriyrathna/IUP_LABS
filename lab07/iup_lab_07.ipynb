{
 "cells": [
  {
   "cell_type": "code",
   "execution_count": null,
   "id": "43dcbd3d-c38b-4e66-ac01-06802b5d93cb",
   "metadata": {},
   "outputs": [],
   "source": [
    "import cv2 as cv\n",
    "import matplotlib.pyplot as plt"
   ]
  },
  {
   "cell_type": "code",
   "execution_count": null,
   "id": "d01509b9-49be-4d45-9977-1dfbf83a65dc",
   "metadata": {},
   "outputs": [],
   "source": [
    "from PIL import Image, ImageFilter, ImageOps\n",
    "\n",
    "# Load the image\n",
    "image = Image.open(\"D:\\\\SLIIT\\\\4th_year\\\\2nd semester\\\\IUP\\LABS\\\\lab07\\\\noise.jpg\")\n",
    "\n",
    "# Apply Min and Max filter\n",
    "min_filter = image.filter(ImageFilter.MinFilter(3))\n",
    "max_filter = min_filter.filter(ImageFilter.MaxFilter(3))\n",
    "\n",
    "# Apply Grayscale and Edge detection\n",
    "grayscale = ImageOps.grayscale(max_filter)\n",
    "edges = grayscale.filter(ImageFilter.FIND_EDGES)\n",
    "\n",
    "# Show the original and processed images\n",
    "plt.imshow(image)\n",
    "plt.show()\n",
    "\n",
    "plt.imshow(min_filter)\n",
    "plt.show()\n",
    "\n",
    "plt.imshow(max_filter)\n",
    "plt.show()\n",
    "\n",
    "plt.imshow(grayscale, 'gray')\n",
    "plt.show()\n",
    "\n",
    "plt.imshow(edges, 'gray')\n",
    "plt.show()"
   ]
  }
 ],
 "metadata": {
  "kernelspec": {
   "display_name": "Python 3 (ipykernel)",
   "language": "python",
   "name": "python3"
  },
  "language_info": {
   "codemirror_mode": {
    "name": "ipython",
    "version": 3
   },
   "file_extension": ".py",
   "mimetype": "text/x-python",
   "name": "python",
   "nbconvert_exporter": "python",
   "pygments_lexer": "ipython3",
   "version": "3.10.7"
  }
 },
 "nbformat": 4,
 "nbformat_minor": 5
}

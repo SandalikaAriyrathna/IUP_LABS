{
 "cells": [
  {
   "cell_type": "code",
   "execution_count": 1,
   "id": "a3ffb284-1e85-49b0-af22-b814479032f1",
   "metadata": {},
   "outputs": [],
   "source": [
    "# Erosion: This operation erodes away the boundaries of the foreground object. It is used to diminish the features of an image.\n",
    "# Dilation: The opposite of erosion, dilation adds pixels to the boundaries of objects in an image, increasing the size of objects.\n",
    "# Opening: This is erosion followed by dilation. It is useful in removing noise.\n",
    "# Closing: This is dilation followed by erosion. It is useful in closing small holes or gaps in an image."
   ]
  },
  {
   "cell_type": "code",
   "execution_count": 2,
   "id": "c0207b19-96f5-4c61-8909-b8bc29c7c8d8",
   "metadata": {},
   "outputs": [],
   "source": [
    "# For the middle image: Apply an opening operation (erosion followed by dilation). \n",
    "# This removes small white objects (assuming white is the foreground) from the image because they are eroded away and not restored by dilation.\n",
    "\n",
    "# For the right image: Apply a closing operation (dilation followed by erosion).\n",
    "# This operation removes small black objects (assuming black is the background) because the dilation fills in the small black holes and the subsequent erosion does not bring them back to their original size."
   ]
  },
  {
   "cell_type": "code",
   "execution_count": 3,
   "id": "7b0cb10c-4612-44bc-ad68-2a06c57d2b78",
   "metadata": {},
   "outputs": [],
   "source": [
    "import cv2\n",
    "import numpy as np\n",
    "\n",
    "# Load the original image\n",
    "original_image = cv2.imread('D:\\\\SLIIT\\\\4th_year\\\\2nd semester\\\\IUP\\\\LABS\\\\lab09\\\\binary6.png', cv2.IMREAD_GRAYSCALE)\n",
    "\n",
    "if original_image is None:\n",
    "    print(\"Error: Image not loaded.\")\n",
    "else:\n",
    "    # Opening operation remains the same\n",
    "    kernel_opening = np.ones((15, 1), np.uint8)\n",
    "    opened_image = cv2.morphologyEx(original_image, cv2.MORPH_OPEN, kernel_opening)\n",
    "\n",
    "    # For closing, try a kernel that is larger than the noise blocks\n",
    "    # This size may need to be adjusted\n",
    "    kernel_closing = np.ones((15, 1), np.uint8) \n",
    "    closed_image = cv2.morphologyEx(opened_image, cv2.MORPH_CLOSE, kernel_closing)\n",
    "\n",
    "    # Display results\n",
    "    cv2.imshow('Original Image', original_image)\n",
    "    cv2.imshow('Opened Image', opened_image)\n",
    "    cv2.imshow('Closed Image', closed_image)\n",
    "    cv2.waitKey(0)\n",
    "    cv2.destroyAllWindows()\n"
   ]
  },
  {
   "cell_type": "code",
   "execution_count": null,
   "id": "83735fe4-18be-44df-bad4-37d34dfdbb95",
   "metadata": {},
   "outputs": [],
   "source": []
  }
 ],
 "metadata": {
  "kernelspec": {
   "display_name": "Python 3 (ipykernel)",
   "language": "python",
   "name": "python3"
  },
  "language_info": {
   "codemirror_mode": {
    "name": "ipython",
    "version": 3
   },
   "file_extension": ".py",
   "mimetype": "text/x-python",
   "name": "python",
   "nbconvert_exporter": "python",
   "pygments_lexer": "ipython3",
   "version": "3.10.7"
  }
 },
 "nbformat": 4,
 "nbformat_minor": 5
}
